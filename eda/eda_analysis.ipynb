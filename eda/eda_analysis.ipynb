{
 "cells": [
  {
   "cell_type": "code",
   "execution_count": 2,
   "metadata": {},
   "outputs": [],
   "source": [
    "# importações EDA\n",
    "\n",
    "import pandas as pd\n",
    "import seaborn as sns\n",
    "import plotly.express as px\n",
    "import matplotlib.pyplot as plt"
   ]
  },
  {
   "cell_type": "code",
   "execution_count": 3,
   "metadata": {},
   "outputs": [],
   "source": [
    "# Carregar dataset\n",
    "\n",
    "df = pd.read_csv('../data/processed/processed_data.csv')"
   ]
  },
  {
   "cell_type": "code",
   "execution_count": 4,
   "metadata": {},
   "outputs": [
    {
     "data": {
      "text/html": [
       "<div>\n",
       "<style scoped>\n",
       "    .dataframe tbody tr th:only-of-type {\n",
       "        vertical-align: middle;\n",
       "    }\n",
       "\n",
       "    .dataframe tbody tr th {\n",
       "        vertical-align: top;\n",
       "    }\n",
       "\n",
       "    .dataframe thead th {\n",
       "        text-align: right;\n",
       "    }\n",
       "</style>\n",
       "<table border=\"1\" class=\"dataframe\">\n",
       "  <thead>\n",
       "    <tr style=\"text-align: right;\">\n",
       "      <th></th>\n",
       "      <th>syndrome_id</th>\n",
       "      <th>subject_id</th>\n",
       "      <th>image_id</th>\n",
       "      <th>0</th>\n",
       "      <th>1</th>\n",
       "      <th>2</th>\n",
       "      <th>3</th>\n",
       "      <th>4</th>\n",
       "      <th>5</th>\n",
       "      <th>6</th>\n",
       "      <th>...</th>\n",
       "      <th>310</th>\n",
       "      <th>311</th>\n",
       "      <th>312</th>\n",
       "      <th>313</th>\n",
       "      <th>314</th>\n",
       "      <th>315</th>\n",
       "      <th>316</th>\n",
       "      <th>317</th>\n",
       "      <th>318</th>\n",
       "      <th>319</th>\n",
       "    </tr>\n",
       "  </thead>\n",
       "  <tbody>\n",
       "    <tr>\n",
       "      <th>0</th>\n",
       "      <td>300000082</td>\n",
       "      <td>595</td>\n",
       "      <td>3543</td>\n",
       "      <td>-0.037180</td>\n",
       "      <td>1.741486</td>\n",
       "      <td>1.206103</td>\n",
       "      <td>-0.451453</td>\n",
       "      <td>-0.736373</td>\n",
       "      <td>1.705392</td>\n",
       "      <td>0.738040</td>\n",
       "      <td>...</td>\n",
       "      <td>1.783927</td>\n",
       "      <td>1.587222</td>\n",
       "      <td>-1.522482</td>\n",
       "      <td>-3.935935</td>\n",
       "      <td>0.007990</td>\n",
       "      <td>0.668852</td>\n",
       "      <td>1.129786</td>\n",
       "      <td>0.097900</td>\n",
       "      <td>-0.768619</td>\n",
       "      <td>0.271600</td>\n",
       "    </tr>\n",
       "    <tr>\n",
       "      <th>1</th>\n",
       "      <td>300000082</td>\n",
       "      <td>2638</td>\n",
       "      <td>1633</td>\n",
       "      <td>2.424995</td>\n",
       "      <td>0.179920</td>\n",
       "      <td>2.950324</td>\n",
       "      <td>0.379930</td>\n",
       "      <td>-0.158152</td>\n",
       "      <td>-0.238334</td>\n",
       "      <td>-0.436916</td>\n",
       "      <td>...</td>\n",
       "      <td>-0.665296</td>\n",
       "      <td>0.367323</td>\n",
       "      <td>-2.437823</td>\n",
       "      <td>-2.704050</td>\n",
       "      <td>1.696490</td>\n",
       "      <td>-0.471431</td>\n",
       "      <td>2.529153</td>\n",
       "      <td>1.107004</td>\n",
       "      <td>-3.214602</td>\n",
       "      <td>-1.450313</td>\n",
       "    </tr>\n",
       "    <tr>\n",
       "      <th>2</th>\n",
       "      <td>300000082</td>\n",
       "      <td>734490</td>\n",
       "      <td>742992</td>\n",
       "      <td>-1.789331</td>\n",
       "      <td>-0.216211</td>\n",
       "      <td>0.434315</td>\n",
       "      <td>-0.552323</td>\n",
       "      <td>-1.065345</td>\n",
       "      <td>1.817165</td>\n",
       "      <td>0.006342</td>\n",
       "      <td>...</td>\n",
       "      <td>0.439080</td>\n",
       "      <td>0.861753</td>\n",
       "      <td>-0.544255</td>\n",
       "      <td>-0.486401</td>\n",
       "      <td>-2.228478</td>\n",
       "      <td>0.964719</td>\n",
       "      <td>-0.297413</td>\n",
       "      <td>-0.623660</td>\n",
       "      <td>-0.208614</td>\n",
       "      <td>0.236617</td>\n",
       "    </tr>\n",
       "    <tr>\n",
       "      <th>3</th>\n",
       "      <td>300000082</td>\n",
       "      <td>2770</td>\n",
       "      <td>1812</td>\n",
       "      <td>-1.143693</td>\n",
       "      <td>-0.714621</td>\n",
       "      <td>0.319488</td>\n",
       "      <td>0.455682</td>\n",
       "      <td>1.571120</td>\n",
       "      <td>-0.837411</td>\n",
       "      <td>0.726402</td>\n",
       "      <td>...</td>\n",
       "      <td>-0.414648</td>\n",
       "      <td>-0.121709</td>\n",
       "      <td>-1.838737</td>\n",
       "      <td>-0.405826</td>\n",
       "      <td>0.190536</td>\n",
       "      <td>0.651180</td>\n",
       "      <td>0.539327</td>\n",
       "      <td>-0.103917</td>\n",
       "      <td>-3.094141</td>\n",
       "      <td>0.867695</td>\n",
       "    </tr>\n",
       "    <tr>\n",
       "      <th>4</th>\n",
       "      <td>300000082</td>\n",
       "      <td>2642</td>\n",
       "      <td>1801</td>\n",
       "      <td>0.814171</td>\n",
       "      <td>1.327491</td>\n",
       "      <td>0.847285</td>\n",
       "      <td>-0.212331</td>\n",
       "      <td>-0.161848</td>\n",
       "      <td>0.468158</td>\n",
       "      <td>-1.385634</td>\n",
       "      <td>...</td>\n",
       "      <td>-0.321441</td>\n",
       "      <td>0.560821</td>\n",
       "      <td>-4.187195</td>\n",
       "      <td>-0.589926</td>\n",
       "      <td>0.104791</td>\n",
       "      <td>1.157607</td>\n",
       "      <td>1.382157</td>\n",
       "      <td>-0.184572</td>\n",
       "      <td>-2.582998</td>\n",
       "      <td>0.356301</td>\n",
       "    </tr>\n",
       "  </tbody>\n",
       "</table>\n",
       "<p>5 rows × 323 columns</p>\n",
       "</div>"
      ],
      "text/plain": [
       "   syndrome_id  subject_id  image_id         0         1         2         3  \\\n",
       "0    300000082         595      3543 -0.037180  1.741486  1.206103 -0.451453   \n",
       "1    300000082        2638      1633  2.424995  0.179920  2.950324  0.379930   \n",
       "2    300000082      734490    742992 -1.789331 -0.216211  0.434315 -0.552323   \n",
       "3    300000082        2770      1812 -1.143693 -0.714621  0.319488  0.455682   \n",
       "4    300000082        2642      1801  0.814171  1.327491  0.847285 -0.212331   \n",
       "\n",
       "          4         5         6  ...       310       311       312       313  \\\n",
       "0 -0.736373  1.705392  0.738040  ...  1.783927  1.587222 -1.522482 -3.935935   \n",
       "1 -0.158152 -0.238334 -0.436916  ... -0.665296  0.367323 -2.437823 -2.704050   \n",
       "2 -1.065345  1.817165  0.006342  ...  0.439080  0.861753 -0.544255 -0.486401   \n",
       "3  1.571120 -0.837411  0.726402  ... -0.414648 -0.121709 -1.838737 -0.405826   \n",
       "4 -0.161848  0.468158 -1.385634  ... -0.321441  0.560821 -4.187195 -0.589926   \n",
       "\n",
       "        314       315       316       317       318       319  \n",
       "0  0.007990  0.668852  1.129786  0.097900 -0.768619  0.271600  \n",
       "1  1.696490 -0.471431  2.529153  1.107004 -3.214602 -1.450313  \n",
       "2 -2.228478  0.964719 -0.297413 -0.623660 -0.208614  0.236617  \n",
       "3  0.190536  0.651180  0.539327 -0.103917 -3.094141  0.867695  \n",
       "4  0.104791  1.157607  1.382157 -0.184572 -2.582998  0.356301  \n",
       "\n",
       "[5 rows x 323 columns]"
      ]
     },
     "execution_count": 4,
     "metadata": {},
     "output_type": "execute_result"
    }
   ],
   "source": [
    "df.head()"
   ]
  },
  {
   "cell_type": "code",
   "execution_count": 5,
   "metadata": {},
   "outputs": [
    {
     "name": "stdout",
     "output_type": "stream",
     "text": [
      "<class 'pandas.core.frame.DataFrame'>\n",
      "RangeIndex: 1116 entries, 0 to 1115\n",
      "Columns: 323 entries, syndrome_id to 319\n",
      "dtypes: float64(320), int64(3)\n",
      "memory usage: 2.8 MB\n",
      "None\n",
      "Missing Values:\n",
      " 0\n"
     ]
    }
   ],
   "source": [
    "# Informações básicas\n",
    "print(df.info())\n",
    "\n",
    "# valores faltantes\n",
    "print(\"Missing Values:\\n\", df.isnull().sum().sum())"
   ]
  },
  {
   "cell_type": "code",
   "execution_count": 6,
   "metadata": {},
   "outputs": [
    {
     "data": {
      "image/png": "[encoded data removed]",
      "text/plain": [
       "<Figure size 2000x1000 with 9 Axes>"
      ]
     },
     "metadata": {},
     "output_type": "display_data"
    }
   ],
   "source": [
    "# Distribuição de valores nos embeddings\n",
    "\n",
    "df.iloc[:, 3:].describe().T.hist(bins=50, figsize=(20, 10))\n",
    "plt.suptitle(\"Distribution of Embedding Values\")\n",
    "plt.show()\n"
   ]
  },
  {
   "cell_type": "code",
   "execution_count": 7,
   "metadata": {},
   "outputs": [
    {
     "name": "stdout",
     "output_type": "stream",
     "text": [
      "Total Samples: 1116\n",
      "Number of Unique Syndromes: 10\n"
     ]
    },
    {
     "data": {
      "application/vnd.plotly.v1+json": {
       "config": {
        "plotlyServerURL": "https://plot.ly"
       },
       "data": [
        {
         "alignmentgroup": "True",
         "hovertemplate": "Syndrome ID=%{x}<br>Count=%{marker.color}<extra></extra>",
         "legendgroup": "",
         "marker": {
          "color": [
           210,
           198,
           136,
           115,
           98,
           89,
           74,
           67,
           65,
           64
          ],
          "coloraxis": "coloraxis",
          "pattern": {
           "shape": ""
          }
         },
         "name": "",
         "offsetgroup": "",
         "orientation": "v",
         "showlegend": false,
         "textposition": "auto",
         "type": "bar",
         "x": [
          "300000034",
          "300000080",
          "100192430",
          "300000007",
          "300000082",
          "100610443",
          "300000018",
          "100180860",
          "100610883",
          "700018215"
         ],
         "xaxis": "x",
         "y": [
          210,
          198,
          136,
          115,
          98,
          89,
          74,
          67,
          65,
          64
         ],
         "yaxis": "y"
        }
       ],
       "layout": {
        "barmode": "relative",
        "coloraxis": {
         "colorbar": {
          "title": {
           "text": "Count"
          }
         },
         "colorscale": [
          [
           0,
           "#440154"
          ],
          [
           0.1111111111111111,
           "#482878"
          ],
          [
           0.2222222222222222,
           "#3e4989"
          ],
          [
           0.3333333333333333,
           "#31688e"
          ],
          [
           0.4444444444444444,
           "#26828e"
          ],
          [
           0.5555555555555556,
           "#1f9e89"
          ],
          [
           0.6666666666666666,
           "#35b779"
          ],
          [
           0.7777777777777778,
           "#6ece58"
          ],
          [
           0.8888888888888888,
           "#b5de2b"
          ],
          [
           1,
           "#fde725"
          ]
         ]
        },
        "legend": {
         "tracegroupgap": 0
        },
        "template": {
         "data": {
          "bar": [
           {
            "error_x": {
             "color": "#2a3f5f"
            },
            "error_y": {
             "color": "#2a3f5f"
            },
            "marker": {
             "line": {
              "color": "#E5ECF6",
              "width": 0.5
             },
             "pattern": {
              "fillmode": "overlay",
              "size": 10,
              "solidity": 0.2
             }
            },
            "type": "bar"
           }
          ],
          "barpolar": [
           {
            "marker": {
             "line": {
              "color": "#E5ECF6",
              "width": 0.5
             },
             "pattern": {
              "fillmode": "overlay",
              "size": 10,
              "solidity": 0.2
             }
            },
            "type": "barpolar"
           }
          ],
          "carpet": [
           {
            "aaxis": {
             "endlinecolor": "#2a3f5f",
             "gridcolor": "white",
             "linecolor": "white",
             "minorgridcolor": "white",
             "startlinecolor": "#2a3f5f"
            },
            "baxis": {
             "endlinecolor": "#2a3f5f",
             "gridcolor": "white",
             "linecolor": "white",
             "minorgridcolor": "white",
             "startlinecolor": "#2a3f5f"
            },
            "type": "carpet"
           }
          ],
          "choropleth": [
           {
            "colorbar": {
             "outlinewidth": 0,
             "ticks": ""
            },
            "type": "choropleth"
           }
          ],
          "contour": [
           {
            "colorbar": {
             "outlinewidth": 0,
             "ticks": ""
            },
            "colorscale": [
             [
              0,
              "#0d0887"
             ],
             [
              0.1111111111111111,
              "#46039f"
             ],
             [
              0.2222222222222222,
              "#7201a8"
             ],
             [
              0.3333333333333333,
              "#9c179e"
             ],
             [
              0.4444444444444444,
              "#bd3786"
             ],
             [
              0.5555555555555556,
              "#d8576b"
             ],
             [
              0.6666666666666666,
              "#ed7953"
             ],
             [
              0.7777777777777778,
              "#fb9f3a"
             ],
             [
              0.8888888888888888,
              "#fdca26"
             ],
             [
              1,
              "#f0f921"
             ]
            ],
            "type": "contour"
           }
          ],
          "contourcarpet": [
           {
            "colorbar": {
             "outlinewidth": 0,
             "ticks": ""
            },
            "type": "contourcarpet"
           }
          ],
          "heatmap": [
           {
            "colorbar": {
             "outlinewidth": 0,
             "ticks": ""
            },
            "colorscale": [
             [
              0,
              "#0d0887"
             ],
             [
              0.1111111111111111,
              "#46039f"
             ],
             [
              0.2222222222222222,
              "#7201a8"
             ],
             [
              0.3333333333333333,
              "#9c179e"
             ],
             [
              0.4444444444444444,
              "#bd3786"
             ],
             [
              0.5555555555555556,
              "#d8576b"
             ],
             [
              0.6666666666666666,
              "#ed7953"
             ],
             [
              0.7777777777777778,
              "#fb9f3a"
             ],
             [
              0.8888888888888888,
              "#fdca26"
             ],
             [
              1,
              "#f0f921"
             ]
            ],
            "type": "heatmap"
           }
          ],
          "heatmapgl": [
           {
            "colorbar": {
             "outlinewidth": 0,
             "ticks": ""
            },
            "colorscale": [
             [
              0,
              "#0d0887"
             ],
             [
              0.1111111111111111,
              "#46039f"
             ],
             [
              0.2222222222222222,
              "#7201a8"
             ],
             [
              0.3333333333333333,
              "#9c179e"
             ],
             [
              0.4444444444444444,
              "#bd3786"
             ],
             [
              0.5555555555555556,
              "#d8576b"
             ],
             [
              0.6666666666666666,
              "#ed7953"
             ],
             [
              0.7777777777777778,
              "#fb9f3a"
             ],
             [
              0.8888888888888888,
              "#fdca26"
             ],
             [
              1,
              "#f0f921"
             ]
            ],
            "type": "heatmapgl"
           }
          ],
          "histogram": [
           {
            "marker": {
             "pattern": {
              "fillmode": "overlay",
              "size": 10,
              "solidity": 0.2
             }
            },
            "type": "histogram"
           }
          ],
          "histogram2d": [
           {
            "colorbar": {
             "outlinewidth": 0,
             "ticks": ""
            },
            "colorscale": [
             [
              0,
              "#0d0887"
             ],
             [
              0.1111111111111111,
              "#46039f"
             ],
             [
              0.2222222222222222,
              "#7201a8"
             ],
             [
              0.3333333333333333,
              "#9c179e"
             ],
             [
              0.4444444444444444,
              "#bd3786"
             ],
             [
              0.5555555555555556,
              "#d8576b"
             ],
             [
              0.6666666666666666,
              "#ed7953"
             ],
             [
              0.7777777777777778,
              "#fb9f3a"
             ],
             [
              0.8888888888888888,
              "#fdca26"
             ],
             [
              1,
              "#f0f921"
             ]
            ],
            "type": "histogram2d"
           }
          ],
          "histogram2dcontour": [
           {
            "colorbar": {
             "outlinewidth": 0,
             "ticks": ""
            },
            "colorscale": [
             [
              0,
              "#0d0887"
             ],
             [
              0.1111111111111111,
              "#46039f"
             ],
             [
              0.2222222222222222,
              "#7201a8"
             ],
             [
              0.3333333333333333,
              "#9c179e"
             ],
             [
              0.4444444444444444,
              "#bd3786"
             ],
             [
              0.5555555555555556,
              "#d8576b"
             ],
             [
              0.6666666666666666,
              "#ed7953"
             ],
             [
              0.7777777777777778,
              "#fb9f3a"
             ],
             [
              0.8888888888888888,
              "#fdca26"
             ],
             [
              1,
              "#f0f921"
             ]
            ],
            "type": "histogram2dcontour"
           }
          ],
          "mesh3d": [
           {
            "colorbar": {
             "outlinewidth": 0,
             "ticks": ""
            },
            "type": "mesh3d"
           }
          ],
          "parcoords": [
           {
            "line": {
             "colorbar": {
              "outlinewidth": 0,
              "ticks": ""
             }
            },
            "type": "parcoords"
           }
          ],
          "pie": [
           {
            "automargin": true,
            "type": "pie"
           }
          ],
          "scatter": [
           {
            "fillpattern": {
             "fillmode": "overlay",
             "size": 10,
             "solidity": 0.2
            },
            "type": "scatter"
           }
          ],
          "scatter3d": [
           {
            "line": {
             "colorbar": {
              "outlinewidth": 0,
              "ticks": ""
             }
            },
            "marker": {
             "colorbar": {
              "outlinewidth": 0,
              "ticks": ""
             }
            },
            "type": "scatter3d"
           }
          ],
          "scattercarpet": [
           {
            "marker": {
             "colorbar": {
              "outlinewidth": 0,
              "ticks": ""
             }
            },
            "type": "scattercarpet"
           }
          ],
          "scattergeo": [
           {
            "marker": {
             "colorbar": {
              "outlinewidth": 0,
              "ticks": ""
             }
            },
            "type": "scattergeo"
           }
          ],
          "scattergl": [
           {
            "marker": {
             "colorbar": {
              "outlinewidth": 0,
              "ticks": ""
             }
            },
            "type": "scattergl"
           }
          ],
          "scattermapbox": [
           {
            "marker": {
             "colorbar": {
              "outlinewidth": 0,
              "ticks": ""
             }
            },
            "type": "scattermapbox"
           }
          ],
          "scatterpolar": [
           {
            "marker": {
             "colorbar": {
              "outlinewidth": 0,
              "ticks": ""
             }
            },
            "type": "scatterpolar"
           }
          ],
          "scatterpolargl": [
           {
            "marker": {
             "colorbar": {
              "outlinewidth": 0,
              "ticks": ""
             }
            },
            "type": "scatterpolargl"
           }
          ],
          "scatterternary": [
           {
            "marker": {
             "colorbar": {
              "outlinewidth": 0,
              "ticks": ""
             }
            },
            "type": "scatterternary"
           }
          ],
          "surface": [
           {
            "colorbar": {
             "outlinewidth": 0,
             "ticks": ""
            },
            "colorscale": [
             [
              0,
              "#0d0887"
             ],
             [
              0.1111111111111111,
              "#46039f"
             ],
             [
              0.2222222222222222,
              "#7201a8"
             ],
             [
              0.3333333333333333,
              "#9c179e"
             ],
             [
              0.4444444444444444,
              "#bd3786"
             ],
             [
              0.5555555555555556,
              "#d8576b"
             ],
             [
              0.6666666666666666,
              "#ed7953"
             ],
             [
              0.7777777777777778,
              "#fb9f3a"
             ],
             [
              0.8888888888888888,
              "#fdca26"
             ],
             [
              1,
              "#f0f921"
             ]
            ],
            "type": "surface"
           }
          ],
          "table": [
           {
            "cells": {
             "fill": {
              "color": "#EBF0F8"
             },
             "line": {
              "color": "white"
             }
            },
            "header": {
             "fill": {
              "color": "#C8D4E3"
             },
             "line": {
              "color": "white"
             }
            },
            "type": "table"
           }
          ]
         },
         "layout": {
          "annotationdefaults": {
           "arrowcolor": "#2a3f5f",
           "arrowhead": 0,
           "arrowwidth": 1
          },
          "autotypenumbers": "strict",
          "coloraxis": {
           "colorbar": {
            "outlinewidth": 0,
            "ticks": ""
           }
          },
          "colorscale": {
           "diverging": [
            [
             0,
             "#8e0152"
            ],
            [
             0.1,
             "#c51b7d"
            ],
            [
             0.2,
             "#de77ae"
            ],
            [
             0.3,
             "#f1b6da"
            ],
            [
             0.4,
             "#fde0ef"
            ],
            [
             0.5,
             "#f7f7f7"
            ],
            [
             0.6,
             "#e6f5d0"
            ],
            [
             0.7,
             "#b8e186"
            ],
            [
             0.8,
             "#7fbc41"
            ],
            [
             0.9,
             "#4d9221"
            ],
            [
             1,
             "#276419"
            ]
           ],
           "sequential": [
            [
             0,
             "#0d0887"
            ],
            [
             0.1111111111111111,
             "#46039f"
            ],
            [
             0.2222222222222222,
             "#7201a8"
            ],
            [
             0.3333333333333333,
             "#9c179e"
            ],
            [
             0.4444444444444444,
             "#bd3786"
            ],
            [
             0.5555555555555556,
             "#d8576b"
            ],
            [
             0.6666666666666666,
             "#ed7953"
            ],
            [
             0.7777777777777778,
             "#fb9f3a"
            ],
            [
             0.8888888888888888,
             "#fdca26"
            ],
            [
             1,
             "#f0f921"
            ]
           ],
           "sequentialminus": [
            [
             0,
             "#0d0887"
            ],
            [
             0.1111111111111111,
             "#46039f"
            ],
            [
             0.2222222222222222,
             "#7201a8"
            ],
            [
             0.3333333333333333,
             "#9c179e"
            ],
            [
             0.4444444444444444,
             "#bd3786"
            ],
            [
             0.5555555555555556,
             "#d8576b"
            ],
            [
             0.6666666666666666,
             "#ed7953"
            ],
            [
             0.7777777777777778,
             "#fb9f3a"
            ],
            [
             0.8888888888888888,
             "#fdca26"
            ],
            [
             1,
             "#f0f921"
            ]
           ]
          },
          "colorway": [
           "#636efa",
           "#EF553B",
           "#00cc96",
           "#ab63fa",
           "#FFA15A",
           "#19d3f3",
           "#FF6692",
           "#B6E880",
           "#FF97FF",
           "#FECB52"
          ],
          "font": {
           "color": "#2a3f5f"
          },
          "geo": {
           "bgcolor": "white",
           "lakecolor": "white",
           "landcolor": "#E5ECF6",
           "showlakes": true,
           "showland": true,
           "subunitcolor": "white"
          },
          "hoverlabel": {
           "align": "left"
          },
          "hovermode": "closest",
          "mapbox": {
           "style": "light"
          },
          "paper_bgcolor": "white",
          "plot_bgcolor": "#E5ECF6",
          "polar": {
           "angularaxis": {
            "gridcolor": "white",
            "linecolor": "white",
            "ticks": ""
           },
           "bgcolor": "#E5ECF6",
           "radialaxis": {
            "gridcolor": "white",
            "linecolor": "white",
            "ticks": ""
           }
          },
          "scene": {
           "xaxis": {
            "backgroundcolor": "#E5ECF6",
            "gridcolor": "white",
            "gridwidth": 2,
            "linecolor": "white",
            "showbackground": true,
            "ticks": "",
            "zerolinecolor": "white"
           },
           "yaxis": {
            "backgroundcolor": "#E5ECF6",
            "gridcolor": "white",
            "gridwidth": 2,
            "linecolor": "white",
            "showbackground": true,
            "ticks": "",
            "zerolinecolor": "white"
           },
           "zaxis": {
            "backgroundcolor": "#E5ECF6",
            "gridcolor": "white",
            "gridwidth": 2,
            "linecolor": "white",
            "showbackground": true,
            "ticks": "",
            "zerolinecolor": "white"
           }
          },
          "shapedefaults": {
           "line": {
            "color": "#2a3f5f"
           }
          },
          "ternary": {
           "aaxis": {
            "gridcolor": "white",
            "linecolor": "white",
            "ticks": ""
           },
           "baxis": {
            "gridcolor": "white",
            "linecolor": "white",
            "ticks": ""
           },
           "bgcolor": "#E5ECF6",
           "caxis": {
            "gridcolor": "white",
            "linecolor": "white",
            "ticks": ""
           }
          },
          "title": {
           "x": 0.05
          },
          "xaxis": {
           "automargin": true,
           "gridcolor": "white",
           "linecolor": "white",
           "ticks": "",
           "title": {
            "standoff": 15
           },
           "zerolinecolor": "white",
           "zerolinewidth": 2
          },
          "yaxis": {
           "automargin": true,
           "gridcolor": "white",
           "linecolor": "white",
           "ticks": "",
           "title": {
            "standoff": 15
           },
           "zerolinecolor": "white",
           "zerolinewidth": 2
          }
         }
        },
        "title": {
         "text": "Distribution of Syndrome IDs"
        },
        "xaxis": {
         "anchor": "y",
         "domain": [
          0,
          1
         ],
         "title": {
          "text": "Syndrome ID"
         }
        },
        "yaxis": {
         "anchor": "x",
         "domain": [
          0,
          1
         ],
         "title": {
          "text": "Count"
         }
        }
       }
      }
     },
     "metadata": {},
     "output_type": "display_data"
    }
   ],
   "source": [
    "# Estatísticas básicas\n",
    "print(f\"Total Samples: {len(df)}\")\n",
    "print(f\"Number of Unique Syndromes: {df['syndrome_id'].nunique()}\")\n",
    "\n",
    "df['syndrome_id'] = df['syndrome_id'].astype(str)\n",
    "\n",
    "# Contagem das síndromes\n",
    "syndrome_counts = df['syndrome_id'].value_counts().reset_index()\n",
    "syndrome_counts.columns = ['syndrome_id', 'count']\n",
    "\n",
    "fig = px.bar(syndrome_counts, \n",
    "             x='syndrome_id', \n",
    "             y='count', \n",
    "             labels={'syndrome_id': 'Syndrome ID', 'count': 'Count'},\n",
    "             title=\"Distribution of Syndrome IDs\",\n",
    "             color='count',\n",
    "             color_continuous_scale='viridis')\n",
    "\n",
    "fig.show()\n"
   ]
  },
  {
   "cell_type": "code",
   "execution_count": 8,
   "metadata": {},
   "outputs": [
    {
     "data": {
      "image/png": "[encoded data removed]",
      "text/plain": [
       "<Figure size 1200x800 with 2 Axes>"
      ]
     },
     "metadata": {},
     "output_type": "display_data"
    }
   ],
   "source": [
    "\n",
    "# Correlação entre os primeiros 20 embeddings\n",
    "\n",
    "corr_matrix = df.iloc[:, 3:23].corr()\n",
    "plt.figure(figsize=(12,8))\n",
    "sns.heatmap(corr_matrix, cmap=\"coolwarm\")\n",
    "plt.title(\"Correlation Heatmap (First 20 Embeddings)\")\n",
    "plt.show()\n"
   ]
  },
  {
   "cell_type": "markdown",
   "metadata": {},
   "source": [
    "- (Correlação Perfeita = 1.0)\n",
    "- A maioria das colunas apresenta baixa correlação entre si, isso é bom. Indica que as dimensões dos embeddings estão pegando diferentes aspectos das imagens"
   ]
  },
  {
   "cell_type": "code",
   "execution_count": 9,
   "metadata": {},
   "outputs": [
    {
     "name": "stdout",
     "output_type": "stream",
     "text": [
      "Low Variance Features: 0\n"
     ]
    }
   ],
   "source": [
    "# Análise de variância\n",
    "\n",
    "variances = df.iloc[:, 3:].var()\n",
    "low_variance_features = variances[variances < 0.01].index\n",
    "print(f\"Low Variance Features: {len(low_variance_features)}\")\n",
    "\n",
    "# Isso serve para verificar se algum embedding tem variância zero ou baixa, pois isso pode indicar que não contribui para o modelo.\n"
   ]
  },
  {
   "cell_type": "code",
   "execution_count": null,
   "metadata": {},
   "outputs": [
    {
     "name": "stdout",
     "output_type": "stream",
     "text": [
      "Embeddings normalized successfully (Z-score normalization applied).\n"
     ]
    }
   ],
   "source": [
    "# Normalizar os embeddings\n",
    "from sklearn.preprocessing import StandardScaler\n",
    "\n",
    "# Aplicando a normalização apenas nos embeddings (a partir da 3ª)\n",
    "scaler = StandardScaler()\n",
    "df.iloc[:, 3:] = scaler.fit_transform(df.iloc[:, 3:])\n",
    "\n",
    "print(\"Embeddings normalized successfully (Z-score normalization applied).\")"
   ]
  },
  {
   "cell_type": "code",
   "execution_count": 11,
   "metadata": {},
   "outputs": [
    {
     "data": {
      "image/png": "[encoded data removed]",
      "text/plain": [
       "<Figure size 1600x600 with 2 Axes>"
      ]
     },
     "metadata": {},
     "output_type": "display_data"
    }
   ],
   "source": [
    "# Histogramas antes e depois da normalização\n",
    "fig, axs = plt.subplots(1, 2, figsize=(16, 6))\n",
    "\n",
    "# Antes da normalização (plotando as primeiras 5 colunas)\n",
    "df_original = df.copy()  # backup\n",
    "axs[0].hist(df_original.iloc[:, 3:8].values.flatten(), bins=50, color='blue', alpha=0.7)\n",
    "axs[0].set_title('Before Normalization')\n",
    "axs[0].set_xlabel('Embedding Value')\n",
    "axs[0].set_ylabel('Frequency')\n",
    "\n",
    "# Depois da normalização\n",
    "axs[1].hist(df.iloc[:, 3:8].values.flatten(), bins=50, color='green', alpha=0.7)\n",
    "axs[1].set_title('After Normalization')\n",
    "axs[1].set_xlabel('Embedding Value')\n",
    "\n",
    "plt.tight_layout()\n",
    "plt.show()\n"
   ]
  },
  {
   "cell_type": "code",
   "execution_count": 12,
   "metadata": {},
   "outputs": [
    {
     "name": "stdout",
     "output_type": "stream",
     "text": [
      "Após normalização:\n",
      "Média: -1.9498540575854e-18\n",
      "Desvio Padrão: 1.0004483299933822\n"
     ]
    }
   ],
   "source": [
    "print(\"Após normalização:\")\n",
    "print(\"Média:\", df.iloc[:, 3:].mean().mean())\n",
    "print(\"Desvio Padrão:\", df.iloc[:, 3:].std().mean())\n"
   ]
  },
  {
   "cell_type": "code",
   "execution_count": 13,
   "metadata": {},
   "outputs": [
    {
     "name": "stdout",
     "output_type": "stream",
     "text": [
      "Salvo!\n"
     ]
    }
   ],
   "source": [
    "# Salvando a base normalizado\n",
    "\n",
    "df.to_csv('../data/processed/normalized_data.csv', index=False)\n",
    "print(\"Salvo!\")\n"
   ]
  }
 ],
 "metadata": {
  "kernelspec": {
   "display_name": ".venv",
   "language": "python",
   "name": "python3"
  },
  "language_info": {
   "codemirror_mode": {
    "name": "ipython",
    "version": 3
   },
   "file_extension": ".py",
   "mimetype": "text/x-python",
   "name": "python",
   "nbconvert_exporter": "python",
   "pygments_lexer": "ipython3",
   "version": "3.11.10"
  }
 },
 "nbformat": 4,
 "nbformat_minor": 2
}
